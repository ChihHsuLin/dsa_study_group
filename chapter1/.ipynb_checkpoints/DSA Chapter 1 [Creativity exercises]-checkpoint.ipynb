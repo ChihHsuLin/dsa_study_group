{
 "cells": [
  {
   "cell_type": "markdown",
   "metadata": {},
   "source": [
    "#### C-1.13\n",
    "Write a pseudo-code description of a function that reverses a list of n integers, so that the numbers are listed in the opposite order than they were before, and compare this method to an equivalent Python function for doing the same thing."
   ]
  },
  {
   "cell_type": "code",
   "execution_count": 48,
   "metadata": {},
   "outputs": [
    {
     "data": {
      "text/plain": [
       "[5, 4, 3, 2, 1]"
      ]
     },
     "execution_count": 48,
     "metadata": {},
     "output_type": "execute_result"
    }
   ],
   "source": [
    "def my_reverse(arr):\n",
    "    rev_arr = []\n",
    "    i = -1\n",
    "    while i > -len(arr)-1:\n",
    "        rev_arr.append(arr[i])\n",
    "        i = i - 1\n",
    "    return rev_arr\n",
    "my_reverse([1,2,3,4,5])\n",
    "\n"
   ]
  },
  {
   "cell_type": "markdown",
   "metadata": {},
   "source": [
    "I am not entirely sure where to find source code for Python builtin functions. The suggested method is to use **inspect.getsource()**, but it does not appear to work on builtins.\n",
    "\n",
    "That being said, Python itself is implemented in C, and that code can be found here https://github.com/python/cpython. If we dig around the **Object/listobject.c** file, we find a function whose purpose appers to be to reverse a list (see cell below).\n",
    "\n",
    "The principal differences compared to my implementation are as follows:\n",
    "\n",
    "* my implementation - creates an empty list and populates it by iterating the original list in reverse order\n",
    "\n",
    "* C implementation - traverses the list from both ends simultaneously until the indecies for low and high bound converge in the middle (hi--, lo++). At each iteration step, the function sets the **lo** element to **hi**, and **hi** to **lo** (via temp var **t**). The C implementation uses less memory, and takes half as many steps to complete.\n"
   ]
  },
  {
   "cell_type": "code",
   "execution_count": 49,
   "metadata": {},
   "outputs": [
    {
     "name": "stdout",
     "output_type": "stream",
     "text": [
      "[5, 4, 3, 2, 1]\n"
     ]
    }
   ],
   "source": [
    "\n",
    "#\n",
    "#/* Reverse a slice of a list in place, from lo up to (exclusive) hi. */\n",
    "# static void\n",
    "# reverse_slice(PyObject **lo, PyObject **hi)\n",
    "# {\n",
    "#    assert(lo && hi);\n",
    "#\n",
    "#   --hi;\n",
    "#   while (lo < hi) {\n",
    "#        PyObject *t = *lo;\n",
    "#        *lo = *hi;\n",
    "#        *hi = t;\n",
    "#        ++lo;\n",
    "#        --hi;\n",
    "#    }\n",
    "#}\n",
    "\n",
    "# For clarity, I rewrote the C implementation in Python:\n",
    "arr = [1,2,3,4,5]\n",
    "lo, hi = 0, len(arr)-1\n",
    "while lo < hi:\n",
    "    t = arr[lo]\n",
    "    arr[lo] = arr[hi]\n",
    "    arr[hi] = t\n",
    "    lo = lo + 1\n",
    "    hi = hi - 1\n",
    "print(arr)\n",
    "\n",
    "\n",
    "    "
   ]
  },
  {
   "cell_type": "markdown",
   "metadata": {},
   "source": []
  },
  {
   "cell_type": "markdown",
   "metadata": {},
   "source": []
  },
  {
   "cell_type": "code",
   "execution_count": null,
   "metadata": {},
   "outputs": [],
   "source": []
  }
 ],
 "metadata": {
  "kernelspec": {
   "display_name": "Python 3",
   "language": "python",
   "name": "python3"
  },
  "language_info": {
   "codemirror_mode": {
    "name": "ipython",
    "version": 3
   },
   "file_extension": ".py",
   "mimetype": "text/x-python",
   "name": "python",
   "nbconvert_exporter": "python",
   "pygments_lexer": "ipython3",
   "version": "3.6.5"
  }
 },
 "nbformat": 4,
 "nbformat_minor": 2
}
