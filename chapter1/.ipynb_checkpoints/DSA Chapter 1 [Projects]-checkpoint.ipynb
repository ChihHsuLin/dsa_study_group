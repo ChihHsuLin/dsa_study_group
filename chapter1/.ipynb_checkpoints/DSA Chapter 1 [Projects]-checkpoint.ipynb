{
 "cells": [
  {
   "cell_type": "markdown",
   "metadata": {},
   "source": [
    "#### P-1.29\n",
    "Write a Python program that outputs all possible strings formed by using the characters c , a , t , d , o ,and g exactly once."
   ]
  },
  {
   "cell_type": "code",
   "execution_count": 8,
   "metadata": {},
   "outputs": [
    {
     "name": "stdout",
     "output_type": "stream",
     "text": [
      "ca\n",
      "ct\n",
      "cd\n",
      "co\n",
      "cg\n"
     ]
    }
   ],
   "source": [
    "C = ['c', 'a', 't', 'd', 'o', 'g']\n",
    "\n",
    "\n",
    "def compose(arr):\n",
    "    #see the initial structure\n",
    "    first = arr.pop(0)\n",
    "    for c in arr:\n",
    "        slog = first + c\n",
    "        print(slog)\n",
    "    #for c in arr:\n",
    "    #    print(c)\n",
    "\n",
    "compose(C)"
   ]
  },
  {
   "cell_type": "markdown",
   "metadata": {},
   "source": [
    "#### P-1.30\n",
    "\n",
    "Write a Python program that can take a positive integer greater than 2 as input and write out the number of times one must repeatedly divide this number by 2 before getting a value less than 2."
   ]
  },
  {
   "cell_type": "code",
   "execution_count": 10,
   "metadata": {},
   "outputs": [
    {
     "name": "stdout",
     "output_type": "stream",
     "text": [
      "3\n"
     ]
    }
   ],
   "source": [
    "i = 10\n",
    "c = 0\n",
    "while i >= 2:\n",
    "    i = i/2\n",
    "    c = c + 1\n",
    "\n",
    "print(c)\n"
   ]
  },
  {
   "cell_type": "markdown",
   "metadata": {},
   "source": [
    "#### P-1.31\n",
    "Write a Python program that can “make change.” Your program should take two numbers as input, one that is a monetary amount charged and the other that is a monetary amount given. It should then return the number of each kind of bill and coin to give back as change for the difference between the amount given and the amount charged. The values assigned to the bills and coins can be based on the monetary system of any current or former government. Try to design your program so that it returns as few bills and coins as possible."
   ]
  },
  {
   "cell_type": "code",
   "execution_count": 62,
   "metadata": {},
   "outputs": [
    {
     "name": "stdout",
     "output_type": "stream",
     "text": [
      "Your change is:\n",
      "[1.0, 1.0, 0.25, 0.25, 0.25, 0.01, 0.01, 0.01]\n"
     ]
    }
   ],
   "source": [
    "# keep track of currency in cents so we can operate with ints\n",
    "BILLS = [100, 50, 20, 10, 5, 1, 0.25, 0.1, 0.05, 0.01]\n",
    "BILLS = [int(100*bill) for bill in BILLS]\n",
    "\n",
    "def make_change(charged, given):\n",
    "    charged = int(charged*100)\n",
    "    given = int(given*100)\n",
    "    \n",
    "    if given < charged:\n",
    "        print(\"how much for one rib XD\")\n",
    "        return\n",
    "    elif given == charged:\n",
    "        return\n",
    "    \n",
    "    change = given - charged\n",
    "    give_bills = []\n",
    "    for bill in BILLS:\n",
    "        while change > 0:\n",
    "            change = change - bill\n",
    "            give_bills.append(bill)\n",
    "            \n",
    "        if change == 0:\n",
    "            return [bill / 100.0 for bill in give_bills]\n",
    "        else:\n",
    "            change = change + bill\n",
    "            give_bills.pop(-1)\n",
    "            \n",
    "change = make_change(7.22, 10)\n",
    "print(\"Your change is:\")\n",
    "print(change)\n"
   ]
  },
  {
   "cell_type": "markdown",
   "metadata": {},
   "source": [
    "Discussion on rounding of floats:\n",
    "https://stackoverflow.com/questions/455612/limiting-floats-to-two-decimal-points"
   ]
  },
  {
   "cell_type": "markdown",
   "metadata": {},
   "source": [
    "#### P-1.32\n",
    "Write a Python program that can simulate a simple calculator, using the console as the exclusive input and output device. That is, each input to the calculator, be it a number, like 12.34 or 1034, or an operator, like + or =, can be done on a separate line. After each such input, you should output to the Python console what would be displayed on your calculator."
   ]
  },
  {
   "cell_type": "code",
   "execution_count": 84,
   "metadata": {},
   "outputs": [
    {
     "name": "stdout",
     "output_type": "stream",
     "text": [
      "1\n",
      "Console: 1\n",
      "*\n",
      "Console: 1 *\n",
      "10\n",
      "Console: 1 * 10\n",
      "Console: 10\n",
      "OFF\n",
      "Console: OFF\n"
     ]
    }
   ],
   "source": [
    "#\n",
    "#\n",
    "#\n",
    "# while input not =\n",
    "display = []\n",
    "c = None\n",
    "OPERATORS = [\"+\", \"-\", \"*\", \"/\"]\n",
    "\n",
    "def calc(v1,v2,oper):\n",
    "    if oper == \"+\":\n",
    "        result = v1+v2\n",
    "    elif oper == \"-\":\n",
    "        result = v1-v2\n",
    "    elif oper == \"*\":\n",
    "        result = v1*v2\n",
    "    elif oper == \"/\":\n",
    "        result == v1/v2\n",
    "    else:\n",
    "        result = \"ERR\"\n",
    "    return result\n",
    "\n",
    "while c is not \"OFF\":\n",
    "    c = input()\n",
    "    if c == \"OFF\":\n",
    "        print(\"Console: OFF\")\n",
    "        break\n",
    "    display.append(c)\n",
    "    if c == \"RESET\":\n",
    "        display = []\n",
    "    \n",
    "    print(\"Console: \" + \" \".join(display))\n",
    "    if len(display) == 3:\n",
    "        val1 = int(display[0])\n",
    "        val2 = int(display[2])\n",
    "        operation = display[1]\n",
    "        result = calc(val1, val2, operation)\n",
    "        print(\"Console: \" + str(result))"
   ]
  },
  {
   "cell_type": "markdown",
   "metadata": {},
   "source": [
    "#### P-1.33\n",
    "Write a Python program that simulates a handheld calculator."
   ]
  },
  {
   "cell_type": "code",
   "execution_count": null,
   "metadata": {},
   "outputs": [],
   "source": [
    "#See P-1.32"
   ]
  },
  {
   "cell_type": "markdown",
   "metadata": {},
   "source": [
    "#### P-1.34\n",
    "A common punishment for school children is to write out a sentence multiple times. Write a Python stand-alone program that will write out the following sentence one hundred times: “I will never spam my friends again.” Your program should number each of the sentences and it should make eight different random-looking typos."
   ]
  },
  {
   "cell_type": "code",
   "execution_count": 61,
   "metadata": {},
   "outputs": [
    {
     "name": "stdout",
     "output_type": "stream",
     "text": [
      "1. d wilf nkver cpam my frrendssigain.\n",
      "2. c jilh nevkr spaqgmy frunnds again.\n",
      "3. t gill nedrraspam mycfriendsbagainn\n",
      "4. I wiloxneverpipam my friendsragajnm\n",
      "5. I willlnevkr spdy my sxienbsoagain.\n",
      "6. I eill never sclm my friunvs igain.\n",
      "7. q willhnjzer syam my frbegds agawn.\n",
      "8. I wtxl neleb spam myurriends jfain.\n",
      "9. I well nqver sdam cy foaeyds aglin.\n",
      "10. I wiaw neversspamhmm friendsnavain.\n"
     ]
    }
   ],
   "source": [
    "\n",
    "import random\n",
    "base = \"I will never spam my friends again.\"\n",
    "letters = [chr(i) for i in range(97,123)]\n",
    "for i in range(10):\n",
    "    rand_letter = random.sample(letters,8);\n",
    "    rand_index = random.sample(range(len(base)),8)\n",
    "    permuted = list(base)\n",
    "    for ind, val in enumerate(rand_index):\n",
    "        permuted[val] = rand_letter[ind]\n",
    "    print('%d. ' % (i+1) + ''.join(permuted))\n"
   ]
  },
  {
   "cell_type": "markdown",
   "metadata": {},
   "source": [
    "#### P-1.35\n",
    "The birthday paradox says that the probability that two people in a room will have the same birthday is more than half, provided n, the number of people in the room, is more than 23. This property is not really a paradox, but many people find it surprising. Design a Python program that can test this paradox by a series of experiments on randomly generated birthdays, which test this paradox for n = 5,10,15,20,...,100."
   ]
  },
  {
   "cell_type": "code",
   "execution_count": 32,
   "metadata": {},
   "outputs": [
    {
     "name": "stdout",
     "output_type": "stream",
     "text": [
      "21 people: 0.4416\n",
      "22 people: 0.4757\n",
      "23 people: 0.5053\n",
      "24 people: 0.5437\n",
      "25 people: 0.5679\n"
     ]
    }
   ],
   "source": [
    "from random import randint\n",
    "\n",
    "sample_size = 20\n",
    "while sample_size < 25:\n",
    "    sample_size = sample_size + 1\n",
    "    hits = 0\n",
    "    for i in range(10000):\n",
    "        bd = []\n",
    "        for j in range(sample_size):\n",
    "            bd.append(randint(1,365))\n",
    "        if len(bd) > len(set(bd)):\n",
    "            hits += 1\n",
    "    print(\"%d people:\" % sample_size, hits/10000)\n",
    "                \n",
    "        \n",
    "    \n"
   ]
  },
  {
   "cell_type": "markdown",
   "metadata": {},
   "source": [
    "#### C-1.36\n",
    "Write a Python program that inputs a list of words, separated by white- space, and outputs how many times each word appears in the list. You need not worry about efficiency at this point, however, as this topic is something that will be addressed later in this book."
   ]
  },
  {
   "cell_type": "code",
   "execution_count": 39,
   "metadata": {},
   "outputs": [
    {
     "name": "stdout",
     "output_type": "stream",
     "text": [
      "{'aa': 1, 'bb': 1, 'cc': 2, 'dd': 1, 'ee': 2}\n"
     ]
    }
   ],
   "source": [
    "s = 'aa bb cc cc dd ee ee'\n",
    "d = dict()\n",
    "for word in s.split(\" \"):\n",
    "    if word in d:\n",
    "        d[word] += 1\n",
    "    else:\n",
    "        d[word] = 1\n",
    "\n",
    "print(d)"
   ]
  },
  {
   "cell_type": "code",
   "execution_count": null,
   "metadata": {},
   "outputs": [],
   "source": []
  }
 ],
 "metadata": {
  "kernelspec": {
   "display_name": "Python 3",
   "language": "python",
   "name": "python3"
  },
  "language_info": {
   "codemirror_mode": {
    "name": "ipython",
    "version": 3
   },
   "file_extension": ".py",
   "mimetype": "text/x-python",
   "name": "python",
   "nbconvert_exporter": "python",
   "pygments_lexer": "ipython3",
   "version": "3.6.5"
  }
 },
 "nbformat": 4,
 "nbformat_minor": 2
}
