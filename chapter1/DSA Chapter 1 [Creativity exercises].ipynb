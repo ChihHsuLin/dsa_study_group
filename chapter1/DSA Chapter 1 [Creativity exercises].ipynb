{
 "cells": [
  {
   "cell_type": "markdown",
   "metadata": {},
   "source": [
    "#### C-1.13\n",
    "Write a pseudo-code description of a function that reverses a list of n integers, so that the numbers are listed in the opposite order than they were before, and compare this method to an equivalent Python function for doing the same thing."
   ]
  },
  {
   "cell_type": "code",
   "execution_count": 260,
   "metadata": {},
   "outputs": [
    {
     "data": {
      "text/plain": [
       "[5, 4, 3, 2, 1]"
      ]
     },
     "execution_count": 260,
     "metadata": {},
     "output_type": "execute_result"
    }
   ],
   "source": [
    "def my_reverse(arr):\n",
    "    rev_arr = []\n",
    "    i = -1\n",
    "    while i > -len(arr)-1:\n",
    "        rev_arr.append(arr[i])\n",
    "        i = i - 1\n",
    "    return rev_arr\n",
    "my_reverse([1,2,3,4,5])\n",
    "\n",
    "# there is also the slice option with arr[::-1]\n"
   ]
  },
  {
   "cell_type": "markdown",
   "metadata": {},
   "source": [
    "I am not entirely sure where to find source code for Python builtin functions. The suggested method is to use **inspect.getsource()**, but it does not appear to work on builtins.\n",
    "\n",
    "That being said, Python itself is implemented in C, and that code can be found here https://github.com/python/cpython. If we dig around the **Object/listobject.c** file, we find a function whose purpose appers to be to reverse a list (see cell below).\n",
    "\n",
    "The principal differences compared to my implementation are as follows:\n",
    "\n",
    "* my implementation - creates an empty list and populates it by iterating the original list in reverse order\n",
    "\n",
    "* C implementation - traverses the list from both ends simultaneously until the indecies in the middle (hi--, lo++). At each iteration step, the function sets the **lo** element to **hi**, and **hi** to **lo** (via temp var **t**). The C implementation uses less memory, and takes half as many steps to complete.\n"
   ]
  },
  {
   "cell_type": "code",
   "execution_count": 261,
   "metadata": {},
   "outputs": [
    {
     "name": "stdout",
     "output_type": "stream",
     "text": [
      "[5, 4, 3, 2, 1]\n"
     ]
    }
   ],
   "source": [
    "\n",
    "#\n",
    "#/* Reverse a slice of a list in place, from lo up to (exclusive) hi. */\n",
    "# static void\n",
    "# reverse_slice(PyObject **lo, PyObject **hi)\n",
    "# {\n",
    "#    assert(lo && hi);\n",
    "#\n",
    "#   --hi;\n",
    "#   while (lo < hi) {\n",
    "#        PyObject *t = *lo;\n",
    "#        *lo = *hi;\n",
    "#        *hi = t;\n",
    "#        ++lo;\n",
    "#        --hi;\n",
    "#    }\n",
    "#}\n",
    "\n",
    "# For clarity, I rewrote the C implementation in Python:\n",
    "arr = [1,2,3,4,5]\n",
    "lo, hi = 0, len(arr)-1\n",
    "while lo < hi:\n",
    "    t = arr[lo]\n",
    "    arr[lo] = arr[hi]\n",
    "    arr[hi] = t\n",
    "    lo = lo + 1\n",
    "    hi = hi - 1\n",
    "print(arr)\n",
    "\n",
    "\n",
    "    "
   ]
  },
  {
   "cell_type": "markdown",
   "metadata": {},
   "source": [
    "#### C-1.14\n",
    "Write a short Python function that takes a sequence of integer values and determines if there is a distinct pair of numbers in the sequence whose product is odd."
   ]
  },
  {
   "cell_type": "code",
   "execution_count": 79,
   "metadata": {},
   "outputs": [
    {
     "data": {
      "text/plain": [
       "[(0, 1), (0, 3), (1, 2), (1, 4), (2, 3), (3, 4)]"
      ]
     },
     "execution_count": 79,
     "metadata": {},
     "output_type": "execute_result"
    }
   ],
   "source": [
    "def is_odd(arr):\n",
    "    odd = []\n",
    "    for i, vi in enumerate(arr):\n",
    "        for vj in arr[i:]:\n",
    "            if (vi+vj) % 2 is not 0:\n",
    "                odd.append((vi,vj))\n",
    "    return odd        \n",
    "\n",
    "is_odd(range(0,5))\n"
   ]
  },
  {
   "cell_type": "markdown",
   "metadata": {},
   "source": [
    "#### C-1.15\n",
    "Write a Python function that takes a sequence of numbers and determines if all the numbers are different from each other (that is, they are distinct)."
   ]
  },
  {
   "cell_type": "code",
   "execution_count": 82,
   "metadata": {},
   "outputs": [
    {
     "name": "stdout",
     "output_type": "stream",
     "text": [
      "is [1, 2, 3] distinct? True \n",
      "is [1, 2, 3, 3] distinct? False \n"
     ]
    }
   ],
   "source": [
    "def is_distinct(arr):\n",
    "    if len(arr) == len(set(arr)):\n",
    "        return True\n",
    "    else:\n",
    "        return False\n",
    "\n",
    "print(\"is %s distinct? %s \" % ([1,2,3], is_distinct([1,2,3])))\n",
    "print(\"is %s distinct? %s \" % ([1,2,3,3], is_distinct([1,2,3,3])))"
   ]
  },
  {
   "cell_type": "markdown",
   "metadata": {},
   "source": [
    "#### C-1.16\n",
    "In our implementation of the scale function (page25),the body of the loop executes the command data[j] = factor. We have discussed that numeric types are immutable, and that use of the   = operator in this context causes the creation of a new instance (not the mutation of an existing instance). How is it still possible, then, that our implementation of scale changes the actual parameter sent by the caller?"
   ]
  },
  {
   "cell_type": "markdown",
   "metadata": {},
   "source": [
    "Scaled data[j] does not change the orignal value. Instead it points to a new object at a new memory address (see cell below).\n",
    "\n",
    "I don't know what happens to the orignal object referenced by data[j]. I assume it's cleared from memory. Nevertheless, we do not mutate it."
   ]
  },
  {
   "cell_type": "code",
   "execution_count": 264,
   "metadata": {},
   "outputs": [
    {
     "name": "stdout",
     "output_type": "stream",
     "text": [
      "memory address old: 4467840352\n",
      "memory address new: 4467840384\n"
     ]
    }
   ],
   "source": [
    "def scale(data, factor):\n",
    "    for j in range(len(data)):\n",
    "        print(\"memory address old: %s\" % id(data[j]))\n",
    "        data[j] *= factor\n",
    "        print(\"memory address new: %s\" % id(data[j]))\n",
    "\n",
    "scale([1], 2)\n",
    "\n",
    "#Whenever you spawn a unique value for the first time, it's assigned to \n",
    "#an address in memory, and it appears to persist there indefinetely (?)\n",
    "#(wouldnt this lead to memory issues?).\n",
    "#So if you set x = 10, every other '10' in your program (such the '10' in n**10) \n",
    "#will reference the same object in memory as the original '10' from 'x=10'\n",
    "\n",
    "#scale([1], 1)\n",
    "#x = 10**1\n",
    "#print(id(x))\n",
    "#print(id(10))\n"
   ]
  },
  {
   "cell_type": "markdown",
   "metadata": {},
   "source": [
    "#### C-1.17\n",
    "Had we implemented the scale function (page 25) as follows, does it work properly? Explain why or why not."
   ]
  },
  {
   "cell_type": "markdown",
   "metadata": {},
   "source": [
    "No, it wouldn't work, because **val** is a new and independent object within the for-loop namespace."
   ]
  },
  {
   "cell_type": "code",
   "execution_count": 265,
   "metadata": {},
   "outputs": [
    {
     "name": "stdout",
     "output_type": "stream",
     "text": [
      "4467840352\n",
      "4467840352\n",
      "4467840384\n",
      "[1]\n"
     ]
    }
   ],
   "source": [
    "def scale(data, factor):\n",
    "    print(id(data[0]))\n",
    "    for val in data:\n",
    "        print(id(val))\n",
    "        val *= factor\n",
    "        print(id(val))\n",
    "    print(data)\n",
    "\n",
    "scale([1],2)"
   ]
  },
  {
   "cell_type": "markdown",
   "metadata": {},
   "source": [
    "#### C-1.18\n",
    "Demonstrate how to use Python’s list comprehension syntax to produce\n",
    "the list [0, 2, 6, 12, 20, 30, 42, 56, 72, 90]."
   ]
  },
  {
   "cell_type": "code",
   "execution_count": 135,
   "metadata": {},
   "outputs": [
    {
     "data": {
      "text/plain": [
       "[0, 2, 6, 12, 20, 30, 42, 56, 72, 90]"
      ]
     },
     "execution_count": 135,
     "metadata": {},
     "output_type": "execute_result"
    }
   ],
   "source": [
    "[i*(i+1) for i in range(10)]"
   ]
  },
  {
   "cell_type": "markdown",
   "metadata": {},
   "source": [
    "#### C-1.19\n",
    "Demonstrate how to use Python’s list comprehension syntax to produce the list [a , b , c ,..., z], but without having to type all 26 such characters literally."
   ]
  },
  {
   "cell_type": "code",
   "execution_count": 151,
   "metadata": {},
   "outputs": [
    {
     "name": "stdout",
     "output_type": "stream",
     "text": [
      "['a', 'b', 'c', 'd', 'e', 'f', 'g', 'h', 'i', 'j', 'k', 'l', 'm', 'n', 'o', 'p', 'q', 'r', 's', 't', 'u', 'v', 'w', 'x', 'y', 'z']\n"
     ]
    }
   ],
   "source": [
    "arr = [chr(i) for i in range(97,123)]\n",
    "print(arr)"
   ]
  },
  {
   "cell_type": "markdown",
   "metadata": {},
   "source": [
    "#### C-1.20\n",
    "Python’s random module includes a function shuffle(data) that accepts a list of elements and randomly reorders the elements so that each possible order occurs with equal probability. The random module includes a more basic function randint(a, b) that returns a uniformly random integer from a to b (including both endpoints). Using only the randint function, implement your own version of the shuffle function."
   ]
  },
  {
   "cell_type": "code",
   "execution_count": 178,
   "metadata": {},
   "outputs": [
    {
     "name": "stdout",
     "output_type": "stream",
     "text": [
      "[0, 1, 2, 3, 4, 5, 6, 7, 8, 9]\n",
      "[3, 8, 4, 1, 5, 6, 2, 7, 9, 0]\n",
      "[4, 7, 2, 5, 0, 3, 1, 6, 9, 8]\n",
      "[1, 2, 6, 0, 9, 5, 3, 4, 8, 7]\n",
      "[4, 1, 9, 0, 6, 3, 5, 8, 2, 7]\n",
      "[0, 2, 7, 4, 9, 3, 6, 1, 8, 5]\n"
     ]
    }
   ],
   "source": [
    "from random import randint\n",
    "\n",
    "def my_shuffle(data):\n",
    "    shuffled = []\n",
    "    while len(data) > 0:\n",
    "        i = randint(0,len(data)-1)\n",
    "        shuffled.append(data[i])\n",
    "        data.pop(i)\n",
    "    return shuffled\n",
    "\n",
    "data = list(range(10))\n",
    "print(data)\n",
    "for i in range(5):\n",
    "    data = my_shuffle(data)\n",
    "    print(data)"
   ]
  },
  {
   "cell_type": "markdown",
   "metadata": {},
   "source": [
    "#### C-1.21\n",
    "Write a Python program that repeatedly reads lines from standard input until an EOFError is raised, and then outputs those lines in reverse order (a user can indicate end of input by typing ctrl-D)."
   ]
  },
  {
   "cell_type": "code",
   "execution_count": null,
   "metadata": {},
   "outputs": [],
   "source": [
    "#NEED TO DO THIS ONE\n",
    "#NEED TO DO THIS ONE\n",
    "#NEED TO DO THIS ONE\n",
    "#NEED TO DO THIS ONE\n",
    "#NEED TO DO THIS ONE\n",
    "\n",
    "read up on python logger"
   ]
  },
  {
   "cell_type": "markdown",
   "metadata": {},
   "source": [
    "#### C-1.22\n",
    "Write a short Python program that takes two arrays a and b of length n\n",
    "storing int values, and returns the dot product of a and b. That is, it returns\n",
    "an array c of length n such that c[i] = a[i] · b[i], for i = 0,...,n-1"
   ]
  },
  {
   "cell_type": "code",
   "execution_count": 182,
   "metadata": {},
   "outputs": [
    {
     "data": {
      "text/plain": [
       "[0, 1, 4, 9, 16, 25, 36, 49, 64, 81]"
      ]
     },
     "execution_count": 182,
     "metadata": {},
     "output_type": "execute_result"
    }
   ],
   "source": [
    "def dot_product(a,b):\n",
    "    c = []\n",
    "    for i in range(len(a)):\n",
    "        c.append(a[i]*b[i])\n",
    "    return c\n",
    "\n",
    "a, b = range(10), range(10)\n",
    "dot_product(a,b)"
   ]
  },
  {
   "cell_type": "markdown",
   "metadata": {},
   "source": [
    "#### C-1.23\n",
    "Give an example of a Python code fragment that attempts to write an ele- ment to a list based on an index that may be out of bounds. If that index is out of bounds, the program should catch the exception that results, and print the following error message:\n",
    "“Don’t try buffer overflow attacks in Python!”"
   ]
  },
  {
   "cell_type": "code",
   "execution_count": 193,
   "metadata": {},
   "outputs": [
    {
     "name": "stdout",
     "output_type": "stream",
     "text": [
      "Don’t try buffer overflow attacks in Python!\n"
     ]
    },
    {
     "ename": "IndexError",
     "evalue": "list assignment index out of range",
     "output_type": "error",
     "traceback": [
      "\u001b[0;31m---------------------------------------------------------------------------\u001b[0m",
      "\u001b[0;31mIndexError\u001b[0m                                Traceback (most recent call last)",
      "\u001b[0;32m<ipython-input-193-82d20d997269>\u001b[0m in \u001b[0;36m<module>\u001b[0;34m()\u001b[0m\n\u001b[1;32m      3\u001b[0m \u001b[0ma\u001b[0m \u001b[0;34m=\u001b[0m \u001b[0;34m[\u001b[0m\u001b[0;36m1\u001b[0m\u001b[0;34m]\u001b[0m\u001b[0;34m\u001b[0m\u001b[0m\n\u001b[1;32m      4\u001b[0m \u001b[0;32mtry\u001b[0m\u001b[0;34m:\u001b[0m\u001b[0;34m\u001b[0m\u001b[0m\n\u001b[0;32m----> 5\u001b[0;31m     \u001b[0ma\u001b[0m\u001b[0;34m[\u001b[0m\u001b[0;36m1\u001b[0m\u001b[0;34m]\u001b[0m \u001b[0;34m=\u001b[0m \u001b[0;36m0\u001b[0m\u001b[0;34m\u001b[0m\u001b[0m\n\u001b[0m\u001b[1;32m      6\u001b[0m \u001b[0;32mexcept\u001b[0m \u001b[0mIndexError\u001b[0m\u001b[0;34m:\u001b[0m\u001b[0;34m\u001b[0m\u001b[0m\n\u001b[1;32m      7\u001b[0m     \u001b[0mprint\u001b[0m\u001b[0;34m(\u001b[0m\u001b[0;34m\"Don’t try buffer overflow attacks in Python!\"\u001b[0m\u001b[0;34m)\u001b[0m\u001b[0;34m\u001b[0m\u001b[0m\n",
      "\u001b[0;31mIndexError\u001b[0m: list assignment index out of range"
     ]
    }
   ],
   "source": [
    "import sys\n",
    "\n",
    "a = [1]\n",
    "try:\n",
    "    a[1] = 0\n",
    "except IndexError:\n",
    "    print(\"Don’t try buffer overflow attacks in Python!\")\n",
    "    raise\n",
    "#except:\n",
    "#    print(sys.exc_info())\n",
    "#    raise"
   ]
  },
  {
   "cell_type": "markdown",
   "metadata": {},
   "source": [
    "#### C-1.24\n",
    "Write a short Python function that counts the number of vowels in a given\n",
    "character string."
   ]
  },
  {
   "cell_type": "code",
   "execution_count": 215,
   "metadata": {},
   "outputs": [
    {
     "name": "stdout",
     "output_type": "stream",
     "text": [
      "3\n",
      "3\n"
     ]
    }
   ],
   "source": [
    "VOWELS = ['a', 'e', 'i', 'o', 'u']\n",
    "\n",
    "#\n",
    "def count_vowel(string):\n",
    "    count = 0\n",
    "    for char in string:\n",
    "        if char in VOWELS:\n",
    "            count += 1\n",
    "    return count\n",
    "\n",
    "s='abcdaa'\n",
    "print(count_vowel(s))\n",
    "\n",
    "# same logic in list comprehension form\n",
    "print( sum([i in VOWELS for i in s]) )"
   ]
  },
  {
   "cell_type": "markdown",
   "metadata": {},
   "source": [
    "#### C-1.25\n",
    "Write a short Python function that takes a strings, represent in a sentence, and returns a copy of the string with all punctuation removed. For example, if given the string \"Let's try, Mike.\", this function would return \"Lets try Mike\"."
   ]
  },
  {
   "cell_type": "code",
   "execution_count": 241,
   "metadata": {},
   "outputs": [
    {
     "data": {
      "text/plain": [
       "'Lets try Mike'"
      ]
     },
     "execution_count": 241,
     "metadata": {},
     "output_type": "execute_result"
    }
   ],
   "source": [
    "import re\n",
    "s = \"Let's try, Mike.\"\n",
    "\n",
    "re.sub(r'[^\\w\\s]', '', s) # not(^) word char (\\w) or space (\\s)"
   ]
  },
  {
   "cell_type": "markdown",
   "metadata": {},
   "source": [
    "On use of caret (^) within regex set (that would be the brackets [...]):\n",
    "\n",
    "Characters that are not within a range can be matched by complementing the set. If the first character of the set is '^', all the characters that are not in the set will be matched. For example, [^5] will match any character except '5'.\n",
    "https://docs.python.org/2/library/re.html"
   ]
  },
  {
   "cell_type": "markdown",
   "metadata": {},
   "source": [
    "#### C-1.26\n",
    "Write a short program that takes as input three integers, a, b, and c, from the console and determines if they can be used in a correct arithmetic formula (in the given order), like “a+b = c,” “a = b−c,” or “a∗b = c.”"
   ]
  },
  {
   "cell_type": "code",
   "execution_count": null,
   "metadata": {},
   "outputs": [],
   "source": [
    "#NEED TO DO THIS ONE\n",
    "#NEED TO DO THIS ONE\n",
    "#NEED TO DO THIS ONE\n",
    "#NEED TO DO THIS ONE\n",
    "#NEED TO DO THIS ONE\n"
   ]
  },
  {
   "cell_type": "markdown",
   "metadata": {},
   "source": [
    "#### C-1.27\n",
    "In Section 1.8, we provided three different implementations of a generator that computes factors of a given integer. The third of those implementations, from page 41, was the most efficient, but we noted that it did not yield the factors in increasing order. Modify the generator so that it reports factors in increasing order, while maintaining its general performance advantages."
   ]
  },
  {
   "cell_type": "code",
   "execution_count": null,
   "metadata": {},
   "outputs": [],
   "source": [
    "#NEED TO DO THIS ONE\n",
    "#NEED TO DO THIS ONE\n",
    "#NEED TO DO THIS ONE\n",
    "#NEED TO DO THIS ONE\n",
    "#NEED TO DO THIS ONE"
   ]
  },
  {
   "cell_type": "markdown",
   "metadata": {},
   "source": [
    "#### C-1.28\n",
    "Give an implementation of a function named norm such that norm(v, p) returns the p-norm value of v and norm(v) returns the Euclidean norm of v. You may assume that v is a list of numbers."
   ]
  },
  {
   "cell_type": "code",
   "execution_count": 257,
   "metadata": {},
   "outputs": [
    {
     "name": "stdout",
     "output_type": "stream",
     "text": [
      "2025\n",
      "285\n"
     ]
    }
   ],
   "source": [
    "\n",
    "def norm(v,p=2):\n",
    "    return sum([i**p for i in v])\n",
    "\n",
    "v = list(range(10))\n",
    "\n",
    "print( norm(v,3) )\n",
    "print( norm(v) )\n",
    "\n",
    "\n"
   ]
  },
  {
   "cell_type": "code",
   "execution_count": null,
   "metadata": {},
   "outputs": [],
   "source": []
  }
 ],
 "metadata": {
  "kernelspec": {
   "display_name": "Python 3",
   "language": "python",
   "name": "python3"
  }
 },
 "nbformat": 4,
 "nbformat_minor": 2
}
