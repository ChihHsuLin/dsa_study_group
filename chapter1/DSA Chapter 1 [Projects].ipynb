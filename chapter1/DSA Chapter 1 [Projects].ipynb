{
 "cells": [
  {
   "cell_type": "markdown",
   "metadata": {},
   "source": [
    "#### P-1.29\n",
    "Write a Python program that outputs all possible strings formed by using the characters c , a , t , d , o ,and g exactly once."
   ]
  },
  {
   "cell_type": "code",
   "execution_count": 1,
   "metadata": {
    "collapsed": true
   },
   "outputs": [
    {
     "name": "stdout",
     "output_type": "stream",
     "text": [
      "[['c', 'a', 't', 'd', 'o', 'g'], ['c', 'a', 't', 'd', 'g', 'o'], ['c', 'a', 't', 'o', 'd', 'g'], ['c', 'a', 't', 'o', 'g', 'd'], ['c', 'a', 't', 'g', 'd', 'o'], ['c', 'a', 't', 'g', 'o', 'd'], ['c', 'a', 'd', 't', 'o', 'g'], ['c', 'a', 'd', 't', 'g', 'o'], ['c', 'a', 'd', 'o', 't', 'g'], ['c', 'a', 'd', 'o', 'g', 't'], ['c', 'a', 'd', 'g', 't', 'o'], ['c', 'a', 'd', 'g', 'o', 't'], ['c', 'a', 'o', 't', 'd', 'g'], ['c', 'a', 'o', 't', 'g', 'd'], ['c', 'a', 'o', 'd', 't', 'g'], ['c', 'a', 'o', 'd', 'g', 't'], ['c', 'a', 'o', 'g', 't', 'd'], ['c', 'a', 'o', 'g', 'd', 't'], ['c', 'a', 'g', 't', 'd', 'o'], ['c', 'a', 'g', 't', 'o', 'd'], ['c', 'a', 'g', 'd', 't', 'o'], ['c', 'a', 'g', 'd', 'o', 't'], ['c', 'a', 'g', 'o', 't', 'd'], ['c', 'a', 'g', 'o', 'd', 't'], ['c', 't', 'a', 'd', 'o', 'g'], ['c', 't', 'a', 'd', 'g', 'o'], ['c', 't', 'a', 'o', 'd', 'g'], ['c', 't', 'a', 'o', 'g', 'd'], ['c', 't', 'a', 'g', 'd', 'o'], ['c', 't', 'a', 'g', 'o', 'd'], ['c', 't', 'd', 'a', 'o', 'g'], ['c', 't', 'd', 'a', 'g', 'o'], ['c', 't', 'd', 'o', 'a', 'g'], ['c', 't', 'd', 'o', 'g', 'a'], ['c', 't', 'd', 'g', 'a', 'o'], ['c', 't', 'd', 'g', 'o', 'a'], ['c', 't', 'o', 'a', 'd', 'g'], ['c', 't', 'o', 'a', 'g', 'd'], ['c', 't', 'o', 'd', 'a', 'g'], ['c', 't', 'o', 'd', 'g', 'a'], ['c', 't', 'o', 'g', 'a', 'd'], ['c', 't', 'o', 'g', 'd', 'a'], ['c', 't', 'g', 'a', 'd', 'o'], ['c', 't', 'g', 'a', 'o', 'd'], ['c', 't', 'g', 'd', 'a', 'o'], ['c', 't', 'g', 'd', 'o', 'a'], ['c', 't', 'g', 'o', 'a', 'd'], ['c', 't', 'g', 'o', 'd', 'a'], ['c', 'd', 'a', 't', 'o', 'g'], ['c', 'd', 'a', 't', 'g', 'o'], ['c', 'd', 'a', 'o', 't', 'g'], ['c', 'd', 'a', 'o', 'g', 't'], ['c', 'd', 'a', 'g', 't', 'o'], ['c', 'd', 'a', 'g', 'o', 't'], ['c', 'd', 't', 'a', 'o', 'g'], ['c', 'd', 't', 'a', 'g', 'o'], ['c', 'd', 't', 'o', 'a', 'g'], ['c', 'd', 't', 'o', 'g', 'a'], ['c', 'd', 't', 'g', 'a', 'o'], ['c', 'd', 't', 'g', 'o', 'a'], ['c', 'd', 'o', 'a', 't', 'g'], ['c', 'd', 'o', 'a', 'g', 't'], ['c', 'd', 'o', 't', 'a', 'g'], ['c', 'd', 'o', 't', 'g', 'a'], ['c', 'd', 'o', 'g', 'a', 't'], ['c', 'd', 'o', 'g', 't', 'a'], ['c', 'd', 'g', 'a', 't', 'o'], ['c', 'd', 'g', 'a', 'o', 't'], ['c', 'd', 'g', 't', 'a', 'o'], ['c', 'd', 'g', 't', 'o', 'a'], ['c', 'd', 'g', 'o', 'a', 't'], ['c', 'd', 'g', 'o', 't', 'a'], ['c', 'o', 'a', 't', 'd', 'g'], ['c', 'o', 'a', 't', 'g', 'd'], ['c', 'o', 'a', 'd', 't', 'g'], ['c', 'o', 'a', 'd', 'g', 't'], ['c', 'o', 'a', 'g', 't', 'd'], ['c', 'o', 'a', 'g', 'd', 't'], ['c', 'o', 't', 'a', 'd', 'g'], ['c', 'o', 't', 'a', 'g', 'd'], ['c', 'o', 't', 'd', 'a', 'g'], ['c', 'o', 't', 'd', 'g', 'a'], ['c', 'o', 't', 'g', 'a', 'd'], ['c', 'o', 't', 'g', 'd', 'a'], ['c', 'o', 'd', 'a', 't', 'g'], ['c', 'o', 'd', 'a', 'g', 't'], ['c', 'o', 'd', 't', 'a', 'g'], ['c', 'o', 'd', 't', 'g', 'a'], ['c', 'o', 'd', 'g', 'a', 't'], ['c', 'o', 'd', 'g', 't', 'a'], ['c', 'o', 'g', 'a', 't', 'd'], ['c', 'o', 'g', 'a', 'd', 't'], ['c', 'o', 'g', 't', 'a', 'd'], ['c', 'o', 'g', 't', 'd', 'a'], ['c', 'o', 'g', 'd', 'a', 't'], ['c', 'o', 'g', 'd', 't', 'a'], ['c', 'g', 'a', 't', 'd', 'o'], ['c', 'g', 'a', 't', 'o', 'd'], ['c', 'g', 'a', 'd', 't', 'o'], ['c', 'g', 'a', 'd', 'o', 't'], ['c', 'g', 'a', 'o', 't', 'd'], ['c', 'g', 'a', 'o', 'd', 't'], ['c', 'g', 't', 'a', 'd', 'o'], ['c', 'g', 't', 'a', 'o', 'd'], ['c', 'g', 't', 'd', 'a', 'o'], ['c', 'g', 't', 'd', 'o', 'a'], ['c', 'g', 't', 'o', 'a', 'd'], ['c', 'g', 't', 'o', 'd', 'a'], ['c', 'g', 'd', 'a', 't', 'o'], ['c', 'g', 'd', 'a', 'o', 't'], ['c', 'g', 'd', 't', 'a', 'o'], ['c', 'g', 'd', 't', 'o', 'a'], ['c', 'g', 'd', 'o', 'a', 't'], ['c', 'g', 'd', 'o', 't', 'a'], ['c', 'g', 'o', 'a', 't', 'd'], ['c', 'g', 'o', 'a', 'd', 't'], ['c', 'g', 'o', 't', 'a', 'd'], ['c', 'g', 'o', 't', 'd', 'a'], ['c', 'g', 'o', 'd', 'a', 't'], ['c', 'g', 'o', 'd', 't', 'a'], ['a', 'c', 't', 'd', 'o', 'g'], ['a', 'c', 't', 'd', 'g', 'o'], ['a', 'c', 't', 'o', 'd', 'g'], ['a', 'c', 't', 'o', 'g', 'd'], ['a', 'c', 't', 'g', 'd', 'o'], ['a', 'c', 't', 'g', 'o', 'd'], ['a', 'c', 'd', 't', 'o', 'g'], ['a', 'c', 'd', 't', 'g', 'o'], ['a', 'c', 'd', 'o', 't', 'g'], ['a', 'c', 'd', 'o', 'g', 't'], ['a', 'c', 'd', 'g', 't', 'o'], ['a', 'c', 'd', 'g', 'o', 't'], ['a', 'c', 'o', 't', 'd', 'g'], ['a', 'c', 'o', 't', 'g', 'd'], ['a', 'c', 'o', 'd', 't', 'g'], ['a', 'c', 'o', 'd', 'g', 't'], ['a', 'c', 'o', 'g', 't', 'd'], ['a', 'c', 'o', 'g', 'd', 't'], ['a', 'c', 'g', 't', 'd', 'o'], ['a', 'c', 'g', 't', 'o', 'd'], ['a', 'c', 'g', 'd', 't', 'o'], ['a', 'c', 'g', 'd', 'o', 't'], ['a', 'c', 'g', 'o', 't', 'd'], ['a', 'c', 'g', 'o', 'd', 't'], ['a', 't', 'c', 'd', 'o', 'g'], ['a', 't', 'c', 'd', 'g', 'o'], ['a', 't', 'c', 'o', 'd', 'g'], ['a', 't', 'c', 'o', 'g', 'd'], ['a', 't', 'c', 'g', 'd', 'o'], ['a', 't', 'c', 'g', 'o', 'd'], ['a', 't', 'd', 'c', 'o', 'g'], ['a', 't', 'd', 'c', 'g', 'o'], ['a', 't', 'd', 'o', 'c', 'g'], ['a', 't', 'd', 'o', 'g', 'c'], ['a', 't', 'd', 'g', 'c', 'o'], ['a', 't', 'd', 'g', 'o', 'c'], ['a', 't', 'o', 'c', 'd', 'g'], ['a', 't', 'o', 'c', 'g', 'd'], ['a', 't', 'o', 'd', 'c', 'g'], ['a', 't', 'o', 'd', 'g', 'c'], ['a', 't', 'o', 'g', 'c', 'd'], ['a', 't', 'o', 'g', 'd', 'c'], ['a', 't', 'g', 'c', 'd', 'o'], ['a', 't', 'g', 'c', 'o', 'd'], ['a', 't', 'g', 'd', 'c', 'o'], ['a', 't', 'g', 'd', 'o', 'c'], ['a', 't', 'g', 'o', 'c', 'd'], ['a', 't', 'g', 'o', 'd', 'c'], ['a', 'd', 'c', 't', 'o', 'g'], ['a', 'd', 'c', 't', 'g', 'o'], ['a', 'd', 'c', 'o', 't', 'g'], ['a', 'd', 'c', 'o', 'g', 't'], ['a', 'd', 'c', 'g', 't', 'o'], ['a', 'd', 'c', 'g', 'o', 't'], ['a', 'd', 't', 'c', 'o', 'g'], ['a', 'd', 't', 'c', 'g', 'o'], ['a', 'd', 't', 'o', 'c', 'g'], ['a', 'd', 't', 'o', 'g', 'c'], ['a', 'd', 't', 'g', 'c', 'o'], ['a', 'd', 't', 'g', 'o', 'c'], ['a', 'd', 'o', 'c', 't', 'g'], ['a', 'd', 'o', 'c', 'g', 't'], ['a', 'd', 'o', 't', 'c', 'g'], ['a', 'd', 'o', 't', 'g', 'c'], ['a', 'd', 'o', 'g', 'c', 't'], ['a', 'd', 'o', 'g', 't', 'c'], ['a', 'd', 'g', 'c', 't', 'o'], ['a', 'd', 'g', 'c', 'o', 't'], ['a', 'd', 'g', 't', 'c', 'o'], ['a', 'd', 'g', 't', 'o', 'c'], ['a', 'd', 'g', 'o', 'c', 't'], ['a', 'd', 'g', 'o', 't', 'c'], ['a', 'o', 'c', 't', 'd', 'g'], ['a', 'o', 'c', 't', 'g', 'd'], ['a', 'o', 'c', 'd', 't', 'g'], ['a', 'o', 'c', 'd', 'g', 't'], ['a', 'o', 'c', 'g', 't', 'd'], ['a', 'o', 'c', 'g', 'd', 't'], ['a', 'o', 't', 'c', 'd', 'g'], ['a', 'o', 't', 'c', 'g', 'd'], ['a', 'o', 't', 'd', 'c', 'g'], ['a', 'o', 't', 'd', 'g', 'c'], ['a', 'o', 't', 'g', 'c', 'd'], ['a', 'o', 't', 'g', 'd', 'c'], ['a', 'o', 'd', 'c', 't', 'g'], ['a', 'o', 'd', 'c', 'g', 't'], ['a', 'o', 'd', 't', 'c', 'g'], ['a', 'o', 'd', 't', 'g', 'c'], ['a', 'o', 'd', 'g', 'c', 't'], ['a', 'o', 'd', 'g', 't', 'c'], ['a', 'o', 'g', 'c', 't', 'd'], ['a', 'o', 'g', 'c', 'd', 't'], ['a', 'o', 'g', 't', 'c', 'd'], ['a', 'o', 'g', 't', 'd', 'c'], ['a', 'o', 'g', 'd', 'c', 't'], ['a', 'o', 'g', 'd', 't', 'c'], ['a', 'g', 'c', 't', 'd', 'o'], ['a', 'g', 'c', 't', 'o', 'd'], ['a', 'g', 'c', 'd', 't', 'o'], ['a', 'g', 'c', 'd', 'o', 't'], ['a', 'g', 'c', 'o', 't', 'd'], ['a', 'g', 'c', 'o', 'd', 't'], ['a', 'g', 't', 'c', 'd', 'o'], ['a', 'g', 't', 'c', 'o', 'd'], ['a', 'g', 't', 'd', 'c', 'o'], ['a', 'g', 't', 'd', 'o', 'c'], ['a', 'g', 't', 'o', 'c', 'd'], ['a', 'g', 't', 'o', 'd', 'c'], ['a', 'g', 'd', 'c', 't', 'o'], ['a', 'g', 'd', 'c', 'o', 't'], ['a', 'g', 'd', 't', 'c', 'o'], ['a', 'g', 'd', 't', 'o', 'c'], ['a', 'g', 'd', 'o', 'c', 't'], ['a', 'g', 'd', 'o', 't', 'c'], ['a', 'g', 'o', 'c', 't', 'd'], ['a', 'g', 'o', 'c', 'd', 't'], ['a', 'g', 'o', 't', 'c', 'd'], ['a', 'g', 'o', 't', 'd', 'c'], ['a', 'g', 'o', 'd', 'c', 't'], ['a', 'g', 'o', 'd', 't', 'c'], ['t', 'c', 'a', 'd', 'o', 'g'], ['t', 'c', 'a', 'd', 'g', 'o'], ['t', 'c', 'a', 'o', 'd', 'g'], ['t', 'c', 'a', 'o', 'g', 'd'], ['t', 'c', 'a', 'g', 'd', 'o'], ['t', 'c', 'a', 'g', 'o', 'd'], ['t', 'c', 'd', 'a', 'o', 'g'], ['t', 'c', 'd', 'a', 'g', 'o'], ['t', 'c', 'd', 'o', 'a', 'g'], ['t', 'c', 'd', 'o', 'g', 'a'], ['t', 'c', 'd', 'g', 'a', 'o'], ['t', 'c', 'd', 'g', 'o', 'a'], ['t', 'c', 'o', 'a', 'd', 'g'], ['t', 'c', 'o', 'a', 'g', 'd'], ['t', 'c', 'o', 'd', 'a', 'g'], ['t', 'c', 'o', 'd', 'g', 'a'], ['t', 'c', 'o', 'g', 'a', 'd'], ['t', 'c', 'o', 'g', 'd', 'a'], ['t', 'c', 'g', 'a', 'd', 'o'], ['t', 'c', 'g', 'a', 'o', 'd'], ['t', 'c', 'g', 'd', 'a', 'o'], ['t', 'c', 'g', 'd', 'o', 'a'], ['t', 'c', 'g', 'o', 'a', 'd'], ['t', 'c', 'g', 'o', 'd', 'a'], ['t', 'a', 'c', 'd', 'o', 'g'], ['t', 'a', 'c', 'd', 'g', 'o'], ['t', 'a', 'c', 'o', 'd', 'g'], ['t', 'a', 'c', 'o', 'g', 'd'], ['t', 'a', 'c', 'g', 'd', 'o'], ['t', 'a', 'c', 'g', 'o', 'd'], ['t', 'a', 'd', 'c', 'o', 'g'], ['t', 'a', 'd', 'c', 'g', 'o'], ['t', 'a', 'd', 'o', 'c', 'g'], ['t', 'a', 'd', 'o', 'g', 'c'], ['t', 'a', 'd', 'g', 'c', 'o'], ['t', 'a', 'd', 'g', 'o', 'c'], ['t', 'a', 'o', 'c', 'd', 'g'], ['t', 'a', 'o', 'c', 'g', 'd'], ['t', 'a', 'o', 'd', 'c', 'g'], ['t', 'a', 'o', 'd', 'g', 'c'], ['t', 'a', 'o', 'g', 'c', 'd'], ['t', 'a', 'o', 'g', 'd', 'c'], ['t', 'a', 'g', 'c', 'd', 'o'], ['t', 'a', 'g', 'c', 'o', 'd'], ['t', 'a', 'g', 'd', 'c', 'o'], ['t', 'a', 'g', 'd', 'o', 'c'], ['t', 'a', 'g', 'o', 'c', 'd'], ['t', 'a', 'g', 'o', 'd', 'c'], ['t', 'd', 'c', 'a', 'o', 'g'], ['t', 'd', 'c', 'a', 'g', 'o'], ['t', 'd', 'c', 'o', 'a', 'g'], ['t', 'd', 'c', 'o', 'g', 'a'], ['t', 'd', 'c', 'g', 'a', 'o'], ['t', 'd', 'c', 'g', 'o', 'a'], ['t', 'd', 'a', 'c', 'o', 'g'], ['t', 'd', 'a', 'c', 'g', 'o'], ['t', 'd', 'a', 'o', 'c', 'g'], ['t', 'd', 'a', 'o', 'g', 'c'], ['t', 'd', 'a', 'g', 'c', 'o'], ['t', 'd', 'a', 'g', 'o', 'c'], ['t', 'd', 'o', 'c', 'a', 'g'], ['t', 'd', 'o', 'c', 'g', 'a'], ['t', 'd', 'o', 'a', 'c', 'g'], ['t', 'd', 'o', 'a', 'g', 'c'], ['t', 'd', 'o', 'g', 'c', 'a'], ['t', 'd', 'o', 'g', 'a', 'c'], ['t', 'd', 'g', 'c', 'a', 'o'], ['t', 'd', 'g', 'c', 'o', 'a'], ['t', 'd', 'g', 'a', 'c', 'o'], ['t', 'd', 'g', 'a', 'o', 'c'], ['t', 'd', 'g', 'o', 'c', 'a'], ['t', 'd', 'g', 'o', 'a', 'c'], ['t', 'o', 'c', 'a', 'd', 'g'], ['t', 'o', 'c', 'a', 'g', 'd'], ['t', 'o', 'c', 'd', 'a', 'g'], ['t', 'o', 'c', 'd', 'g', 'a'], ['t', 'o', 'c', 'g', 'a', 'd'], ['t', 'o', 'c', 'g', 'd', 'a'], ['t', 'o', 'a', 'c', 'd', 'g'], ['t', 'o', 'a', 'c', 'g', 'd'], ['t', 'o', 'a', 'd', 'c', 'g'], ['t', 'o', 'a', 'd', 'g', 'c'], ['t', 'o', 'a', 'g', 'c', 'd'], ['t', 'o', 'a', 'g', 'd', 'c'], ['t', 'o', 'd', 'c', 'a', 'g'], ['t', 'o', 'd', 'c', 'g', 'a'], ['t', 'o', 'd', 'a', 'c', 'g'], ['t', 'o', 'd', 'a', 'g', 'c'], ['t', 'o', 'd', 'g', 'c', 'a'], ['t', 'o', 'd', 'g', 'a', 'c'], ['t', 'o', 'g', 'c', 'a', 'd'], ['t', 'o', 'g', 'c', 'd', 'a'], ['t', 'o', 'g', 'a', 'c', 'd'], ['t', 'o', 'g', 'a', 'd', 'c'], ['t', 'o', 'g', 'd', 'c', 'a'], ['t', 'o', 'g', 'd', 'a', 'c'], ['t', 'g', 'c', 'a', 'd', 'o'], ['t', 'g', 'c', 'a', 'o', 'd'], ['t', 'g', 'c', 'd', 'a', 'o'], ['t', 'g', 'c', 'd', 'o', 'a'], ['t', 'g', 'c', 'o', 'a', 'd'], ['t', 'g', 'c', 'o', 'd', 'a'], ['t', 'g', 'a', 'c', 'd', 'o'], ['t', 'g', 'a', 'c', 'o', 'd'], ['t', 'g', 'a', 'd', 'c', 'o'], ['t', 'g', 'a', 'd', 'o', 'c'], ['t', 'g', 'a', 'o', 'c', 'd'], ['t', 'g', 'a', 'o', 'd', 'c'], ['t', 'g', 'd', 'c', 'a', 'o'], ['t', 'g', 'd', 'c', 'o', 'a'], ['t', 'g', 'd', 'a', 'c', 'o'], ['t', 'g', 'd', 'a', 'o', 'c'], ['t', 'g', 'd', 'o', 'c', 'a'], ['t', 'g', 'd', 'o', 'a', 'c'], ['t', 'g', 'o', 'c', 'a', 'd'], ['t', 'g', 'o', 'c', 'd', 'a'], ['t', 'g', 'o', 'a', 'c', 'd'], ['t', 'g', 'o', 'a', 'd', 'c'], ['t', 'g', 'o', 'd', 'c', 'a'], ['t', 'g', 'o', 'd', 'a', 'c'], ['d', 'c', 'a', 't', 'o', 'g'], ['d', 'c', 'a', 't', 'g', 'o'], ['d', 'c', 'a', 'o', 't', 'g'], ['d', 'c', 'a', 'o', 'g', 't'], ['d', 'c', 'a', 'g', 't', 'o'], ['d', 'c', 'a', 'g', 'o', 't'], ['d', 'c', 't', 'a', 'o', 'g'], ['d', 'c', 't', 'a', 'g', 'o'], ['d', 'c', 't', 'o', 'a', 'g'], ['d', 'c', 't', 'o', 'g', 'a'], ['d', 'c', 't', 'g', 'a', 'o'], ['d', 'c', 't', 'g', 'o', 'a'], ['d', 'c', 'o', 'a', 't', 'g'], ['d', 'c', 'o', 'a', 'g', 't'], ['d', 'c', 'o', 't', 'a', 'g'], ['d', 'c', 'o', 't', 'g', 'a'], ['d', 'c', 'o', 'g', 'a', 't'], ['d', 'c', 'o', 'g', 't', 'a'], ['d', 'c', 'g', 'a', 't', 'o'], ['d', 'c', 'g', 'a', 'o', 't'], ['d', 'c', 'g', 't', 'a', 'o'], ['d', 'c', 'g', 't', 'o', 'a'], ['d', 'c', 'g', 'o', 'a', 't'], ['d', 'c', 'g', 'o', 't', 'a'], ['d', 'a', 'c', 't', 'o', 'g'], ['d', 'a', 'c', 't', 'g', 'o'], ['d', 'a', 'c', 'o', 't', 'g'], ['d', 'a', 'c', 'o', 'g', 't'], ['d', 'a', 'c', 'g', 't', 'o'], ['d', 'a', 'c', 'g', 'o', 't'], ['d', 'a', 't', 'c', 'o', 'g'], ['d', 'a', 't', 'c', 'g', 'o'], ['d', 'a', 't', 'o', 'c', 'g'], ['d', 'a', 't', 'o', 'g', 'c'], ['d', 'a', 't', 'g', 'c', 'o'], ['d', 'a', 't', 'g', 'o', 'c'], ['d', 'a', 'o', 'c', 't', 'g'], ['d', 'a', 'o', 'c', 'g', 't'], ['d', 'a', 'o', 't', 'c', 'g'], ['d', 'a', 'o', 't', 'g', 'c'], ['d', 'a', 'o', 'g', 'c', 't'], ['d', 'a', 'o', 'g', 't', 'c'], ['d', 'a', 'g', 'c', 't', 'o'], ['d', 'a', 'g', 'c', 'o', 't'], ['d', 'a', 'g', 't', 'c', 'o'], ['d', 'a', 'g', 't', 'o', 'c'], ['d', 'a', 'g', 'o', 'c', 't'], ['d', 'a', 'g', 'o', 't', 'c'], ['d', 't', 'c', 'a', 'o', 'g'], ['d', 't', 'c', 'a', 'g', 'o'], ['d', 't', 'c', 'o', 'a', 'g'], ['d', 't', 'c', 'o', 'g', 'a'], ['d', 't', 'c', 'g', 'a', 'o'], ['d', 't', 'c', 'g', 'o', 'a'], ['d', 't', 'a', 'c', 'o', 'g'], ['d', 't', 'a', 'c', 'g', 'o'], ['d', 't', 'a', 'o', 'c', 'g'], ['d', 't', 'a', 'o', 'g', 'c'], ['d', 't', 'a', 'g', 'c', 'o'], ['d', 't', 'a', 'g', 'o', 'c'], ['d', 't', 'o', 'c', 'a', 'g'], ['d', 't', 'o', 'c', 'g', 'a'], ['d', 't', 'o', 'a', 'c', 'g'], ['d', 't', 'o', 'a', 'g', 'c'], ['d', 't', 'o', 'g', 'c', 'a'], ['d', 't', 'o', 'g', 'a', 'c'], ['d', 't', 'g', 'c', 'a', 'o'], ['d', 't', 'g', 'c', 'o', 'a'], ['d', 't', 'g', 'a', 'c', 'o'], ['d', 't', 'g', 'a', 'o', 'c'], ['d', 't', 'g', 'o', 'c', 'a'], ['d', 't', 'g', 'o', 'a', 'c'], ['d', 'o', 'c', 'a', 't', 'g'], ['d', 'o', 'c', 'a', 'g', 't'], ['d', 'o', 'c', 't', 'a', 'g'], ['d', 'o', 'c', 't', 'g', 'a'], ['d', 'o', 'c', 'g', 'a', 't'], ['d', 'o', 'c', 'g', 't', 'a'], ['d', 'o', 'a', 'c', 't', 'g'], ['d', 'o', 'a', 'c', 'g', 't'], ['d', 'o', 'a', 't', 'c', 'g'], ['d', 'o', 'a', 't', 'g', 'c'], ['d', 'o', 'a', 'g', 'c', 't'], ['d', 'o', 'a', 'g', 't', 'c'], ['d', 'o', 't', 'c', 'a', 'g'], ['d', 'o', 't', 'c', 'g', 'a'], ['d', 'o', 't', 'a', 'c', 'g'], ['d', 'o', 't', 'a', 'g', 'c'], ['d', 'o', 't', 'g', 'c', 'a'], ['d', 'o', 't', 'g', 'a', 'c'], ['d', 'o', 'g', 'c', 'a', 't'], ['d', 'o', 'g', 'c', 't', 'a'], ['d', 'o', 'g', 'a', 'c', 't'], ['d', 'o', 'g', 'a', 't', 'c'], ['d', 'o', 'g', 't', 'c', 'a'], ['d', 'o', 'g', 't', 'a', 'c'], ['d', 'g', 'c', 'a', 't', 'o'], ['d', 'g', 'c', 'a', 'o', 't'], ['d', 'g', 'c', 't', 'a', 'o'], ['d', 'g', 'c', 't', 'o', 'a'], ['d', 'g', 'c', 'o', 'a', 't'], ['d', 'g', 'c', 'o', 't', 'a'], ['d', 'g', 'a', 'c', 't', 'o'], ['d', 'g', 'a', 'c', 'o', 't'], ['d', 'g', 'a', 't', 'c', 'o'], ['d', 'g', 'a', 't', 'o', 'c'], ['d', 'g', 'a', 'o', 'c', 't'], ['d', 'g', 'a', 'o', 't', 'c'], ['d', 'g', 't', 'c', 'a', 'o'], ['d', 'g', 't', 'c', 'o', 'a'], ['d', 'g', 't', 'a', 'c', 'o'], ['d', 'g', 't', 'a', 'o', 'c'], ['d', 'g', 't', 'o', 'c', 'a'], ['d', 'g', 't', 'o', 'a', 'c'], ['d', 'g', 'o', 'c', 'a', 't'], ['d', 'g', 'o', 'c', 't', 'a'], ['d', 'g', 'o', 'a', 'c', 't'], ['d', 'g', 'o', 'a', 't', 'c'], ['d', 'g', 'o', 't', 'c', 'a'], ['d', 'g', 'o', 't', 'a', 'c'], ['o', 'c', 'a', 't', 'd', 'g'], ['o', 'c', 'a', 't', 'g', 'd'], ['o', 'c', 'a', 'd', 't', 'g'], ['o', 'c', 'a', 'd', 'g', 't'], ['o', 'c', 'a', 'g', 't', 'd'], ['o', 'c', 'a', 'g', 'd', 't'], ['o', 'c', 't', 'a', 'd', 'g'], ['o', 'c', 't', 'a', 'g', 'd'], ['o', 'c', 't', 'd', 'a', 'g'], ['o', 'c', 't', 'd', 'g', 'a'], ['o', 'c', 't', 'g', 'a', 'd'], ['o', 'c', 't', 'g', 'd', 'a'], ['o', 'c', 'd', 'a', 't', 'g'], ['o', 'c', 'd', 'a', 'g', 't'], ['o', 'c', 'd', 't', 'a', 'g'], ['o', 'c', 'd', 't', 'g', 'a'], ['o', 'c', 'd', 'g', 'a', 't'], ['o', 'c', 'd', 'g', 't', 'a'], ['o', 'c', 'g', 'a', 't', 'd'], ['o', 'c', 'g', 'a', 'd', 't'], ['o', 'c', 'g', 't', 'a', 'd'], ['o', 'c', 'g', 't', 'd', 'a'], ['o', 'c', 'g', 'd', 'a', 't'], ['o', 'c', 'g', 'd', 't', 'a'], ['o', 'a', 'c', 't', 'd', 'g'], ['o', 'a', 'c', 't', 'g', 'd'], ['o', 'a', 'c', 'd', 't', 'g'], ['o', 'a', 'c', 'd', 'g', 't'], ['o', 'a', 'c', 'g', 't', 'd'], ['o', 'a', 'c', 'g', 'd', 't'], ['o', 'a', 't', 'c', 'd', 'g'], ['o', 'a', 't', 'c', 'g', 'd'], ['o', 'a', 't', 'd', 'c', 'g'], ['o', 'a', 't', 'd', 'g', 'c'], ['o', 'a', 't', 'g', 'c', 'd'], ['o', 'a', 't', 'g', 'd', 'c'], ['o', 'a', 'd', 'c', 't', 'g'], ['o', 'a', 'd', 'c', 'g', 't'], ['o', 'a', 'd', 't', 'c', 'g'], ['o', 'a', 'd', 't', 'g', 'c'], ['o', 'a', 'd', 'g', 'c', 't'], ['o', 'a', 'd', 'g', 't', 'c'], ['o', 'a', 'g', 'c', 't', 'd'], ['o', 'a', 'g', 'c', 'd', 't'], ['o', 'a', 'g', 't', 'c', 'd'], ['o', 'a', 'g', 't', 'd', 'c'], ['o', 'a', 'g', 'd', 'c', 't'], ['o', 'a', 'g', 'd', 't', 'c'], ['o', 't', 'c', 'a', 'd', 'g'], ['o', 't', 'c', 'a', 'g', 'd'], ['o', 't', 'c', 'd', 'a', 'g'], ['o', 't', 'c', 'd', 'g', 'a'], ['o', 't', 'c', 'g', 'a', 'd'], ['o', 't', 'c', 'g', 'd', 'a'], ['o', 't', 'a', 'c', 'd', 'g'], ['o', 't', 'a', 'c', 'g', 'd'], ['o', 't', 'a', 'd', 'c', 'g'], ['o', 't', 'a', 'd', 'g', 'c'], ['o', 't', 'a', 'g', 'c', 'd'], ['o', 't', 'a', 'g', 'd', 'c'], ['o', 't', 'd', 'c', 'a', 'g'], ['o', 't', 'd', 'c', 'g', 'a'], ['o', 't', 'd', 'a', 'c', 'g'], ['o', 't', 'd', 'a', 'g', 'c'], ['o', 't', 'd', 'g', 'c', 'a'], ['o', 't', 'd', 'g', 'a', 'c'], ['o', 't', 'g', 'c', 'a', 'd'], ['o', 't', 'g', 'c', 'd', 'a'], ['o', 't', 'g', 'a', 'c', 'd'], ['o', 't', 'g', 'a', 'd', 'c'], ['o', 't', 'g', 'd', 'c', 'a'], ['o', 't', 'g', 'd', 'a', 'c'], ['o', 'd', 'c', 'a', 't', 'g'], ['o', 'd', 'c', 'a', 'g', 't'], ['o', 'd', 'c', 't', 'a', 'g'], ['o', 'd', 'c', 't', 'g', 'a'], ['o', 'd', 'c', 'g', 'a', 't'], ['o', 'd', 'c', 'g', 't', 'a'], ['o', 'd', 'a', 'c', 't', 'g'], ['o', 'd', 'a', 'c', 'g', 't'], ['o', 'd', 'a', 't', 'c', 'g'], ['o', 'd', 'a', 't', 'g', 'c'], ['o', 'd', 'a', 'g', 'c', 't'], ['o', 'd', 'a', 'g', 't', 'c'], ['o', 'd', 't', 'c', 'a', 'g'], ['o', 'd', 't', 'c', 'g', 'a'], ['o', 'd', 't', 'a', 'c', 'g'], ['o', 'd', 't', 'a', 'g', 'c'], ['o', 'd', 't', 'g', 'c', 'a'], ['o', 'd', 't', 'g', 'a', 'c'], ['o', 'd', 'g', 'c', 'a', 't'], ['o', 'd', 'g', 'c', 't', 'a'], ['o', 'd', 'g', 'a', 'c', 't'], ['o', 'd', 'g', 'a', 't', 'c'], ['o', 'd', 'g', 't', 'c', 'a'], ['o', 'd', 'g', 't', 'a', 'c'], ['o', 'g', 'c', 'a', 't', 'd'], ['o', 'g', 'c', 'a', 'd', 't'], ['o', 'g', 'c', 't', 'a', 'd'], ['o', 'g', 'c', 't', 'd', 'a'], ['o', 'g', 'c', 'd', 'a', 't'], ['o', 'g', 'c', 'd', 't', 'a'], ['o', 'g', 'a', 'c', 't', 'd'], ['o', 'g', 'a', 'c', 'd', 't'], ['o', 'g', 'a', 't', 'c', 'd'], ['o', 'g', 'a', 't', 'd', 'c'], ['o', 'g', 'a', 'd', 'c', 't'], ['o', 'g', 'a', 'd', 't', 'c'], ['o', 'g', 't', 'c', 'a', 'd'], ['o', 'g', 't', 'c', 'd', 'a'], ['o', 'g', 't', 'a', 'c', 'd'], ['o', 'g', 't', 'a', 'd', 'c'], ['o', 'g', 't', 'd', 'c', 'a'], ['o', 'g', 't', 'd', 'a', 'c'], ['o', 'g', 'd', 'c', 'a', 't'], ['o', 'g', 'd', 'c', 't', 'a'], ['o', 'g', 'd', 'a', 'c', 't'], ['o', 'g', 'd', 'a', 't', 'c'], ['o', 'g', 'd', 't', 'c', 'a'], ['o', 'g', 'd', 't', 'a', 'c'], ['g', 'c', 'a', 't', 'd', 'o'], ['g', 'c', 'a', 't', 'o', 'd'], ['g', 'c', 'a', 'd', 't', 'o'], ['g', 'c', 'a', 'd', 'o', 't'], ['g', 'c', 'a', 'o', 't', 'd'], ['g', 'c', 'a', 'o', 'd', 't'], ['g', 'c', 't', 'a', 'd', 'o'], ['g', 'c', 't', 'a', 'o', 'd'], ['g', 'c', 't', 'd', 'a', 'o'], ['g', 'c', 't', 'd', 'o', 'a'], ['g', 'c', 't', 'o', 'a', 'd'], ['g', 'c', 't', 'o', 'd', 'a'], ['g', 'c', 'd', 'a', 't', 'o'], ['g', 'c', 'd', 'a', 'o', 't'], ['g', 'c', 'd', 't', 'a', 'o'], ['g', 'c', 'd', 't', 'o', 'a'], ['g', 'c', 'd', 'o', 'a', 't'], ['g', 'c', 'd', 'o', 't', 'a'], ['g', 'c', 'o', 'a', 't', 'd'], ['g', 'c', 'o', 'a', 'd', 't'], ['g', 'c', 'o', 't', 'a', 'd'], ['g', 'c', 'o', 't', 'd', 'a'], ['g', 'c', 'o', 'd', 'a', 't'], ['g', 'c', 'o', 'd', 't', 'a'], ['g', 'a', 'c', 't', 'd', 'o'], ['g', 'a', 'c', 't', 'o', 'd'], ['g', 'a', 'c', 'd', 't', 'o'], ['g', 'a', 'c', 'd', 'o', 't'], ['g', 'a', 'c', 'o', 't', 'd'], ['g', 'a', 'c', 'o', 'd', 't'], ['g', 'a', 't', 'c', 'd', 'o'], ['g', 'a', 't', 'c', 'o', 'd'], ['g', 'a', 't', 'd', 'c', 'o'], ['g', 'a', 't', 'd', 'o', 'c'], ['g', 'a', 't', 'o', 'c', 'd'], ['g', 'a', 't', 'o', 'd', 'c'], ['g', 'a', 'd', 'c', 't', 'o'], ['g', 'a', 'd', 'c', 'o', 't'], ['g', 'a', 'd', 't', 'c', 'o'], ['g', 'a', 'd', 't', 'o', 'c'], ['g', 'a', 'd', 'o', 'c', 't'], ['g', 'a', 'd', 'o', 't', 'c'], ['g', 'a', 'o', 'c', 't', 'd'], ['g', 'a', 'o', 'c', 'd', 't'], ['g', 'a', 'o', 't', 'c', 'd'], ['g', 'a', 'o', 't', 'd', 'c'], ['g', 'a', 'o', 'd', 'c', 't'], ['g', 'a', 'o', 'd', 't', 'c'], ['g', 't', 'c', 'a', 'd', 'o'], ['g', 't', 'c', 'a', 'o', 'd'], ['g', 't', 'c', 'd', 'a', 'o'], ['g', 't', 'c', 'd', 'o', 'a'], ['g', 't', 'c', 'o', 'a', 'd'], ['g', 't', 'c', 'o', 'd', 'a'], ['g', 't', 'a', 'c', 'd', 'o'], ['g', 't', 'a', 'c', 'o', 'd'], ['g', 't', 'a', 'd', 'c', 'o'], ['g', 't', 'a', 'd', 'o', 'c'], ['g', 't', 'a', 'o', 'c', 'd'], ['g', 't', 'a', 'o', 'd', 'c'], ['g', 't', 'd', 'c', 'a', 'o'], ['g', 't', 'd', 'c', 'o', 'a'], ['g', 't', 'd', 'a', 'c', 'o'], ['g', 't', 'd', 'a', 'o', 'c'], ['g', 't', 'd', 'o', 'c', 'a'], ['g', 't', 'd', 'o', 'a', 'c'], ['g', 't', 'o', 'c', 'a', 'd'], ['g', 't', 'o', 'c', 'd', 'a'], ['g', 't', 'o', 'a', 'c', 'd'], ['g', 't', 'o', 'a', 'd', 'c'], ['g', 't', 'o', 'd', 'c', 'a'], ['g', 't', 'o', 'd', 'a', 'c'], ['g', 'd', 'c', 'a', 't', 'o'], ['g', 'd', 'c', 'a', 'o', 't'], ['g', 'd', 'c', 't', 'a', 'o'], ['g', 'd', 'c', 't', 'o', 'a'], ['g', 'd', 'c', 'o', 'a', 't'], ['g', 'd', 'c', 'o', 't', 'a'], ['g', 'd', 'a', 'c', 't', 'o'], ['g', 'd', 'a', 'c', 'o', 't'], ['g', 'd', 'a', 't', 'c', 'o'], ['g', 'd', 'a', 't', 'o', 'c'], ['g', 'd', 'a', 'o', 'c', 't'], ['g', 'd', 'a', 'o', 't', 'c'], ['g', 'd', 't', 'c', 'a', 'o'], ['g', 'd', 't', 'c', 'o', 'a'], ['g', 'd', 't', 'a', 'c', 'o'], ['g', 'd', 't', 'a', 'o', 'c'], ['g', 'd', 't', 'o', 'c', 'a'], ['g', 'd', 't', 'o', 'a', 'c'], ['g', 'd', 'o', 'c', 'a', 't'], ['g', 'd', 'o', 'c', 't', 'a'], ['g', 'd', 'o', 'a', 'c', 't'], ['g', 'd', 'o', 'a', 't', 'c'], ['g', 'd', 'o', 't', 'c', 'a'], ['g', 'd', 'o', 't', 'a', 'c'], ['g', 'o', 'c', 'a', 't', 'd'], ['g', 'o', 'c', 'a', 'd', 't'], ['g', 'o', 'c', 't', 'a', 'd'], ['g', 'o', 'c', 't', 'd', 'a'], ['g', 'o', 'c', 'd', 'a', 't'], ['g', 'o', 'c', 'd', 't', 'a'], ['g', 'o', 'a', 'c', 't', 'd'], ['g', 'o', 'a', 'c', 'd', 't'], ['g', 'o', 'a', 't', 'c', 'd'], ['g', 'o', 'a', 't', 'd', 'c'], ['g', 'o', 'a', 'd', 'c', 't'], ['g', 'o', 'a', 'd', 't', 'c'], ['g', 'o', 't', 'c', 'a', 'd'], ['g', 'o', 't', 'c', 'd', 'a'], ['g', 'o', 't', 'a', 'c', 'd'], ['g', 'o', 't', 'a', 'd', 'c'], ['g', 'o', 't', 'd', 'c', 'a'], ['g', 'o', 't', 'd', 'a', 'c'], ['g', 'o', 'd', 'c', 'a', 't'], ['g', 'o', 'd', 'c', 't', 'a'], ['g', 'o', 'd', 'a', 'c', 't'], ['g', 'o', 'd', 'a', 't', 'c'], ['g', 'o', 'd', 't', 'c', 'a'], ['g', 'o', 'd', 't', 'a', 'c']]\n"
     ]
    }
   ],
   "source": [
    "C = ['c', 'a', 't', 'd', 'o', 'g']\n",
    "def permut(*args):\n",
    "    \"\"\"\n",
    "    Ref: https://docs.python.org/3.6/library/itertools.html#itertools.permutations\n",
    "    \"\"\"\n",
    "    pools = [tuple(pool) for pool in args] * len(*args)\n",
    "    result = [[]]\n",
    "    for pool in pools:\n",
    "        result = [x+[y] for x in result for y in pool]\n",
    "    return [x for x in result if len(x) ==len(set(x))]\n",
    "\n",
    "print(permut(C))"
   ]
  },
  {
   "cell_type": "markdown",
   "metadata": {},
   "source": [
    "#### P-1.30\n",
    "\n",
    "Write a Python program that can take a positive integer greater than 2 as input and write out the number of times one must repeatedly divide this number by 2 before getting a value less than 2."
   ]
  },
  {
   "cell_type": "code",
   "execution_count": 10,
   "metadata": {},
   "outputs": [
    {
     "name": "stdout",
     "output_type": "stream",
     "text": [
      "3\n"
     ]
    }
   ],
   "source": [
    "i = 10\n",
    "c = 0\n",
    "while i >= 2:\n",
    "    i = i/2\n",
    "    c = c + 1\n",
    "\n",
    "print(c)\n"
   ]
  },
  {
   "cell_type": "markdown",
   "metadata": {},
   "source": [
    "#### P-1.31\n",
    "Write a Python program that can “make change.” Your program should take two numbers as input, one that is a monetary amount charged and the other that is a monetary amount given. It should then return the number of each kind of bill and coin to give back as change for the difference between the amount given and the amount charged. The values assigned to the bills and coins can be based on the monetary system of any current or former government. Try to design your program so that it returns as few bills and coins as possible."
   ]
  },
  {
   "cell_type": "code",
   "execution_count": 62,
   "metadata": {},
   "outputs": [
    {
     "name": "stdout",
     "output_type": "stream",
     "text": [
      "Your change is:\n",
      "[1.0, 1.0, 0.25, 0.25, 0.25, 0.01, 0.01, 0.01]\n"
     ]
    }
   ],
   "source": [
    "# keep track of currency in cents so we can operate with ints\n",
    "BILLS = [100, 50, 20, 10, 5, 1, 0.25, 0.1, 0.05, 0.01]\n",
    "BILLS = [int(100*bill) for bill in BILLS]\n",
    "\n",
    "def make_change(charged, given):\n",
    "    charged = int(charged*100)\n",
    "    given = int(given*100)\n",
    "    \n",
    "    if given < charged:\n",
    "        print(\"how much for one rib XD\")\n",
    "        return\n",
    "    elif given == charged:\n",
    "        return\n",
    "    \n",
    "    change = given - charged\n",
    "    give_bills = []\n",
    "    for bill in BILLS:\n",
    "        while change > 0:\n",
    "            change = change - bill\n",
    "            give_bills.append(bill)\n",
    "            \n",
    "        if change == 0:\n",
    "            return [bill / 100.0 for bill in give_bills]\n",
    "        else:\n",
    "            change = change + bill\n",
    "            give_bills.pop(-1)\n",
    "            \n",
    "change = make_change(7.22, 10)\n",
    "print(\"Your change is:\")\n",
    "print(change)\n"
   ]
  },
  {
   "cell_type": "markdown",
   "metadata": {},
   "source": [
    "Discussion on rounding of floats:\n",
    "https://stackoverflow.com/questions/455612/limiting-floats-to-two-decimal-points"
   ]
  },
  {
   "cell_type": "markdown",
   "metadata": {},
   "source": [
    "#### P-1.32\n",
    "Write a Python program that can simulate a simple calculator, using the console as the exclusive input and output device. That is, each input to the calculator, be it a number, like 12.34 or 1034, or an operator, like + or =, can be done on a separate line. After each such input, you should output to the Python console what would be displayed on your calculator."
   ]
  },
  {
   "cell_type": "code",
   "execution_count": 84,
   "metadata": {},
   "outputs": [
    {
     "name": "stdout",
     "output_type": "stream",
     "text": [
      "1\n",
      "Console: 1\n",
      "*\n",
      "Console: 1 *\n",
      "10\n",
      "Console: 1 * 10\n",
      "Console: 10\n",
      "OFF\n",
      "Console: OFF\n"
     ]
    }
   ],
   "source": [
    "#\n",
    "#\n",
    "#\n",
    "# while input not =\n",
    "display = []\n",
    "c = None\n",
    "OPERATORS = [\"+\", \"-\", \"*\", \"/\"]\n",
    "\n",
    "def calc(v1,v2,oper):\n",
    "    if oper == \"+\":\n",
    "        result = v1+v2\n",
    "    elif oper == \"-\":\n",
    "        result = v1-v2\n",
    "    elif oper == \"*\":\n",
    "        result = v1*v2\n",
    "    elif oper == \"/\":\n",
    "        result == v1/v2\n",
    "    else:\n",
    "        result = \"ERR\"\n",
    "    return result\n",
    "\n",
    "while c is not \"OFF\":\n",
    "    c = input()\n",
    "    if c == \"OFF\":\n",
    "        print(\"Console: OFF\")\n",
    "        break\n",
    "    display.append(c)\n",
    "    if c == \"RESET\":\n",
    "        display = []\n",
    "    \n",
    "    print(\"Console: \" + \" \".join(display))\n",
    "    if len(display) == 3:\n",
    "        val1 = int(display[0])\n",
    "        val2 = int(display[2])\n",
    "        operation = display[1]\n",
    "        result = calc(val1, val2, operation)\n",
    "        print(\"Console: \" + str(result))"
   ]
  },
  {
   "cell_type": "markdown",
   "metadata": {},
   "source": [
    "#### P-1.33\n",
    "Write a Python program that simulates a handheld calculator."
   ]
  },
  {
   "cell_type": "code",
   "execution_count": null,
   "metadata": {},
   "outputs": [],
   "source": [
    "#See P-1.32"
   ]
  },
  {
   "cell_type": "markdown",
   "metadata": {},
   "source": [
    "#### P-1.34\n",
    "A common punishment for school children is to write out a sentence multiple times. Write a Python stand-alone program that will write out the following sentence one hundred times: “I will never spam my friends again.” Your program should number each of the sentences and it should make eight different random-looking typos."
   ]
  },
  {
   "cell_type": "code",
   "execution_count": 61,
   "metadata": {},
   "outputs": [
    {
     "name": "stdout",
     "output_type": "stream",
     "text": [
      "1. d wilf nkver cpam my frrendssigain.\n",
      "2. c jilh nevkr spaqgmy frunnds again.\n",
      "3. t gill nedrraspam mycfriendsbagainn\n",
      "4. I wiloxneverpipam my friendsragajnm\n",
      "5. I willlnevkr spdy my sxienbsoagain.\n",
      "6. I eill never sclm my friunvs igain.\n",
      "7. q willhnjzer syam my frbegds agawn.\n",
      "8. I wtxl neleb spam myurriends jfain.\n",
      "9. I well nqver sdam cy foaeyds aglin.\n",
      "10. I wiaw neversspamhmm friendsnavain.\n"
     ]
    }
   ],
   "source": [
    "\n",
    "import random\n",
    "base = \"I will never spam my friends again.\"\n",
    "letters = [chr(i) for i in range(97,123)]\n",
    "for i in range(10):\n",
    "    rand_letter = random.sample(letters,8);\n",
    "    rand_index = random.sample(range(len(base)),8)\n",
    "    permuted = list(base)\n",
    "    for ind, val in enumerate(rand_index):\n",
    "        permuted[val] = rand_letter[ind]\n",
    "    print('%d. ' % (i+1) + ''.join(permuted))\n"
   ]
  },
  {
   "cell_type": "markdown",
   "metadata": {},
   "source": [
    "#### P-1.35\n",
    "The birthday paradox says that the probability that two people in a room will have the same birthday is more than half, provided n, the number of people in the room, is more than 23. This property is not really a paradox, but many people find it surprising. Design a Python program that can test this paradox by a series of experiments on randomly generated birthdays, which test this paradox for n = 5,10,15,20,...,100."
   ]
  },
  {
   "cell_type": "code",
   "execution_count": 32,
   "metadata": {},
   "outputs": [
    {
     "name": "stdout",
     "output_type": "stream",
     "text": [
      "21 people: 0.4416\n",
      "22 people: 0.4757\n",
      "23 people: 0.5053\n",
      "24 people: 0.5437\n",
      "25 people: 0.5679\n"
     ]
    }
   ],
   "source": [
    "from random import randint\n",
    "\n",
    "sample_size = 20\n",
    "while sample_size < 25:\n",
    "    sample_size = sample_size + 1\n",
    "    hits = 0\n",
    "    for i in range(10000):\n",
    "        bd = []\n",
    "        for j in range(sample_size):\n",
    "            bd.append(randint(1,365))\n",
    "        if len(bd) > len(set(bd)):\n",
    "            hits += 1\n",
    "    print(\"%d people:\" % sample_size, hits/10000)\n",
    "                \n",
    "        \n",
    "    \n"
   ]
  },
  {
   "cell_type": "markdown",
   "metadata": {},
   "source": [
    "#### C-1.36\n",
    "Write a Python program that inputs a list of words, separated by white- space, and outputs how many times each word appears in the list. You need not worry about efficiency at this point, however, as this topic is something that will be addressed later in this book."
   ]
  },
  {
   "cell_type": "code",
   "execution_count": 39,
   "metadata": {},
   "outputs": [
    {
     "name": "stdout",
     "output_type": "stream",
     "text": [
      "{'aa': 1, 'bb': 1, 'cc': 2, 'dd': 1, 'ee': 2}\n"
     ]
    }
   ],
   "source": [
    "s = 'aa bb cc cc dd ee ee'\n",
    "d = dict()\n",
    "for word in s.split(\" \"):\n",
    "    if word in d:\n",
    "        d[word] += 1\n",
    "    else:\n",
    "        d[word] = 1\n",
    "\n",
    "print(d)"
   ]
  },
  {
   "cell_type": "code",
   "execution_count": null,
   "metadata": {},
   "outputs": [],
   "source": []
  }
 ],
 "metadata": {
  "kernelspec": {
   "display_name": "IPython (Python 3)",
   "language": "python",
   "name": "python3"
  },
  "language_info": {
   "codemirror_mode": {
    "name": "ipython",
    "version": 3
   },
   "file_extension": ".py",
   "mimetype": "text/x-python",
   "name": "python",
   "nbconvert_exporter": "python",
   "pygments_lexer": "ipython3",
   "version": "3.7.1"
  }
 },
 "nbformat": 4,
 "nbformat_minor": 2
}
